{
 "cells": [
  {
   "cell_type": "markdown",
   "metadata": {},
   "source": [
    "OCR FOR HAND-WRITTEN DIGITS\n",
    "By - Aiswarya Garlapati 14CO213\n",
    "\n",
    "The ANN created to emulate an OCR for hand-written digits consists of:\n",
    "1. An Input layer that has 784 inputs (Each image is flattened to 28 * 28 to input it)\n",
    "2. Two hidden layers with 512 and 256 neurons respectively which use the \"Relu\" activation function.\n",
    "3. The output layer has 10 neurons and uses \"Softmax\" Activation function\n",
    "\n",
    "The best performance is obtained for optimizer \"Adam\" with batch size 128, and number of epochs = 20, which gives an accuracy of 98.31%. The results for other optimizers can be seen below. A detailed account is attached in the read me file."
   ]
  },
  {
   "cell_type": "code",
   "execution_count": 11,
   "metadata": {},
   "outputs": [],
   "source": [
    "import numpy as np\n",
    "import matplotlib.pyplot as plt\n",
    "\n",
    "from keras.models import Sequential\n",
    "from keras.layers.core import Dense, Activation, Dropout\n",
    "from keras.datasets import mnist\n",
    "from keras.utils import np_utils"
   ]
  },
  {
   "cell_type": "code",
   "execution_count": 12,
   "metadata": {},
   "outputs": [],
   "source": [
    "np.random.seed(9)\n",
    "# user inputs\n",
    "nb_epoch = 20\n",
    "num_classes = 10\n",
    "batch_size = 128\n",
    "train_size = 60000\n",
    "test_size = 10000\n",
    "v_length = 784\n",
    "\n",
    "# spliting the MNIST data into train and test\n",
    "(trainData, trainLabels), (testData, testLabels) = mnist.load_data()"
   ]
  },
  {
   "cell_type": "code",
   "execution_count": 13,
   "metadata": {},
   "outputs": [],
   "source": [
    "# reshaping the MNIST dataset\n",
    "trainData = trainData.reshape(train_size, v_length)\n",
    "testData = testData.reshape(test_size, v_length)\n",
    "trainData = trainData.astype(\"float32\")\n",
    "testData = testData.astype(\"float32\")\n",
    "trainData /= 255\n",
    "testData /= 255"
   ]
  },
  {
   "cell_type": "code",
   "execution_count": 14,
   "metadata": {},
   "outputs": [
    {
     "name": "stdout",
     "output_type": "stream",
     "text": [
      "_________________________________________________________________\n",
      "Layer (type)                 Output Shape              Param #   \n",
      "=================================================================\n",
      "dense_4 (Dense)              (None, 512)               401920    \n",
      "_________________________________________________________________\n",
      "dense_5 (Dense)              (None, 256)               131328    \n",
      "_________________________________________________________________\n",
      "dense_6 (Dense)              (None, 10)                2570      \n",
      "_________________________________________________________________\n",
      "activation_2 (Activation)    (None, 10)                0         \n",
      "=================================================================\n",
      "Total params: 535,818\n",
      "Trainable params: 535,818\n",
      "Non-trainable params: 0\n",
      "_________________________________________________________________\n"
     ]
    }
   ],
   "source": [
    "#convert class vector to binary class matrix\n",
    "mTrainLabels = np_utils.to_categorical(trainLabels, num_classes)\n",
    "mTestLabels = np_utils.to_categorical(testLabels, num_classes)\n",
    "\n",
    "# create the model\n",
    "model = Sequential()\n",
    "model.add(Dense(512, input_shape=(784,), activation='relu'))\n",
    "model.add(Dense(256, activation='relu'))\n",
    "model.add(Dense(num_classes))\n",
    "model.add(Activation(\"softmax\"))\n",
    "\n",
    "#create model summary\n",
    "model_summary = model.summary()\n",
    "\n"
   ]
  },
  {
   "cell_type": "code",
   "execution_count": 18,
   "metadata": {},
   "outputs": [
    {
     "name": "stdout",
     "output_type": "stream",
     "text": [
      "Train on 60000 samples, validate on 10000 samples\n",
      "Epoch 1/20\n",
      " - 8s - loss: 0.1423 - acc: 0.9601 - val_loss: 0.1463 - val_acc: 0.9581\n",
      "Epoch 2/20\n",
      " - 8s - loss: 0.1377 - acc: 0.9611 - val_loss: 0.1419 - val_acc: 0.9591\n",
      "Epoch 3/20\n",
      " - 10s - loss: 0.1335 - acc: 0.9628 - val_loss: 0.1392 - val_acc: 0.9599\n",
      "Epoch 4/20\n",
      " - 9s - loss: 0.1295 - acc: 0.9638 - val_loss: 0.1355 - val_acc: 0.9611\n",
      "Epoch 5/20\n",
      " - 12s - loss: 0.1256 - acc: 0.9647 - val_loss: 0.1318 - val_acc: 0.9620\n",
      "Epoch 6/20\n",
      " - 9s - loss: 0.1220 - acc: 0.9660 - val_loss: 0.1287 - val_acc: 0.9639\n",
      "Epoch 7/20\n",
      " - 12s - loss: 0.1185 - acc: 0.9671 - val_loss: 0.1255 - val_acc: 0.9632\n",
      "Epoch 8/20\n",
      " - 10s - loss: 0.1153 - acc: 0.9681 - val_loss: 0.1246 - val_acc: 0.9646\n",
      "Epoch 9/20\n",
      " - 10s - loss: 0.1122 - acc: 0.9689 - val_loss: 0.1209 - val_acc: 0.9648\n",
      "Epoch 10/20\n",
      " - 10s - loss: 0.1091 - acc: 0.9701 - val_loss: 0.1187 - val_acc: 0.9649\n",
      "Epoch 11/20\n",
      " - 10s - loss: 0.1063 - acc: 0.9706 - val_loss: 0.1162 - val_acc: 0.9660\n",
      "Epoch 12/20\n",
      " - 10s - loss: 0.1034 - acc: 0.9717 - val_loss: 0.1143 - val_acc: 0.9674\n",
      "Epoch 13/20\n",
      " - 10s - loss: 0.1007 - acc: 0.9722 - val_loss: 0.1125 - val_acc: 0.9677\n",
      "Epoch 14/20\n",
      " - 10s - loss: 0.0983 - acc: 0.9730 - val_loss: 0.1102 - val_acc: 0.9679\n",
      "Epoch 15/20\n",
      " - 10s - loss: 0.0958 - acc: 0.9737 - val_loss: 0.1086 - val_acc: 0.9679\n",
      "Epoch 16/20\n",
      " - 10s - loss: 0.0934 - acc: 0.9742 - val_loss: 0.1073 - val_acc: 0.9692\n",
      "Epoch 17/20\n",
      " - 11s - loss: 0.0911 - acc: 0.9748 - val_loss: 0.1049 - val_acc: 0.9686\n",
      "Epoch 18/20\n",
      " - 13s - loss: 0.0891 - acc: 0.9755 - val_loss: 0.1031 - val_acc: 0.9697\n",
      "Epoch 19/20\n",
      " - 10s - loss: 0.0868 - acc: 0.9764 - val_loss: 0.1019 - val_acc: 0.9697\n",
      "Epoch 20/20\n",
      " - 11s - loss: 0.0848 - acc: 0.9770 - val_loss: 0.1001 - val_acc: 0.9706\n"
     ]
    },
    {
     "data": {
      "text/plain": [
       "<keras.callbacks.History at 0x7f1a5ccc5f50>"
      ]
     },
     "execution_count": 18,
     "metadata": {},
     "output_type": "execute_result"
    }
   ],
   "source": [
    "# compile the model with SGD Optimizer\n",
    "model.compile(loss=\"categorical_crossentropy\", optimizer=\"sgd\", metrics=[\"accuracy\"])\n",
    "\n",
    "#fit the model\n",
    "history = model.fit(trainData, mTrainLabels, validation_data=(testData, mTestLabels), batch_size=batch_size, epochs=nb_epoch, verbose=2)\n",
    "\n"
   ]
  },
  {
   "cell_type": "code",
   "execution_count": 17,
   "metadata": {
    "scrolled": true
   },
   "outputs": [
    {
     "data": {
      "image/png": "[encoded data removed]",
      "text/plain": [
       "<matplotlib.figure.Figure at 0x7f1a60527dd0>"
      ]
     },
     "metadata": {},
     "output_type": "display_data"
    },
    {
     "name": "stdout",
     "output_type": "stream",
     "text": [
      "Test Accuracy - 0.9575\n"
     ]
    }
   ],
   "source": [
    "# evaluate the model\n",
    "scores = model.evaluate(testData, mTestLabels, verbose=0)\n",
    "\n",
    "# history plot for accuracy\n",
    "plt.plot(history.history[\"acc\"])\n",
    "plt.plot(history.history[\"val_acc\"])\n",
    "plt.title(\"Model Accuracy with SGD Optimizer\")\n",
    "plt.xlabel(\"Epoch\")\n",
    "plt.ylabel(\"Accuracy\")\n",
    "plt.legend([\"train\", \"test\"], loc=\"lower right\")\n",
    "plt.show()\n",
    "\n",
    "print \"Test Accuracy - {}\".format(scores[1])"
   ]
  },
  {
   "cell_type": "code",
   "execution_count": 19,
   "metadata": {},
   "outputs": [
    {
     "name": "stdout",
     "output_type": "stream",
     "text": [
      "Train on 60000 samples, validate on 10000 samples\n",
      "Epoch 1/20\n",
      " - 13s - loss: 0.2998 - acc: 0.9504 - val_loss: 0.0814 - val_acc: 0.9747\n",
      "Epoch 2/20\n",
      " - 13s - loss: 0.0593 - acc: 0.9822 - val_loss: 0.0715 - val_acc: 0.9774\n",
      "Epoch 3/20\n",
      " - 11s - loss: 0.0392 - acc: 0.9887 - val_loss: 0.0654 - val_acc: 0.9786\n",
      "Epoch 4/20\n",
      " - 11s - loss: 0.0281 - acc: 0.9925 - val_loss: 0.0585 - val_acc: 0.9819\n",
      "Epoch 5/20\n",
      " - 13s - loss: 0.0207 - acc: 0.9951 - val_loss: 0.0583 - val_acc: 0.9814\n",
      "Epoch 6/20\n",
      " - 12s - loss: 0.0156 - acc: 0.9969 - val_loss: 0.0570 - val_acc: 0.9816\n",
      "Epoch 7/20\n",
      " - 12s - loss: 0.0120 - acc: 0.9981 - val_loss: 0.0601 - val_acc: 0.9821\n",
      "Epoch 8/20\n",
      " - 14s - loss: 0.0095 - acc: 0.9987 - val_loss: 0.0570 - val_acc: 0.9833\n",
      "Epoch 9/20\n",
      " - 12s - loss: 0.0076 - acc: 0.9990 - val_loss: 0.0570 - val_acc: 0.9832\n",
      "Epoch 10/20\n",
      " - 12s - loss: 0.0062 - acc: 0.9995 - val_loss: 0.0573 - val_acc: 0.9836\n",
      "Epoch 11/20\n",
      " - 14s - loss: 0.0052 - acc: 0.9996 - val_loss: 0.0572 - val_acc: 0.9840\n",
      "Epoch 12/20\n",
      " - 11s - loss: 0.0043 - acc: 0.9998 - val_loss: 0.0582 - val_acc: 0.9829\n",
      "Epoch 13/20\n",
      " - 13s - loss: 0.0036 - acc: 0.9999 - val_loss: 0.0588 - val_acc: 0.9833\n",
      "Epoch 14/20\n",
      " - 12s - loss: 0.0032 - acc: 0.9999 - val_loss: 0.0585 - val_acc: 0.9839\n",
      "Epoch 15/20\n",
      " - 14s - loss: 0.0028 - acc: 1.0000 - val_loss: 0.0602 - val_acc: 0.9834\n",
      "Epoch 16/20\n",
      " - 11s - loss: 0.0025 - acc: 1.0000 - val_loss: 0.0599 - val_acc: 0.9836\n",
      "Epoch 17/20\n",
      " - 14s - loss: 0.0023 - acc: 1.0000 - val_loss: 0.0601 - val_acc: 0.9839\n",
      "Epoch 18/20\n",
      " - 12s - loss: 0.0021 - acc: 1.0000 - val_loss: 0.0608 - val_acc: 0.9835\n",
      "Epoch 19/20\n",
      " - 11s - loss: 0.0019 - acc: 1.0000 - val_loss: 0.0615 - val_acc: 0.9836\n",
      "Epoch 20/20\n",
      " - 14s - loss: 0.0018 - acc: 1.0000 - val_loss: 0.0614 - val_acc: 0.9838\n"
     ]
    },
    {
     "data": {
      "text/plain": [
       "<keras.callbacks.History at 0x7f1a60c7f890>"
      ]
     },
     "execution_count": 19,
     "metadata": {},
     "output_type": "execute_result"
    }
   ],
   "source": [
    "# compile the model with Adagrad Optimizer\n",
    "model.compile(loss=\"categorical_crossentropy\", optimizer=\"adagrad\", metrics=[\"accuracy\"])\n",
    "\n",
    "#fit the model\n",
    "history = model.fit(trainData, mTrainLabels, validation_data=(testData, mTestLabels), batch_size=batch_size, epochs=nb_epoch, verbose=2)\n",
    "\n",
    "\n"
   ]
  },
  {
   "cell_type": "code",
   "execution_count": 21,
   "metadata": {},
   "outputs": [
    {
     "data": {
      "image/png": "[encoded data removed]",
      "text/plain": [
       "<matplotlib.figure.Figure at 0x7f1a60c17810>"
      ]
     },
     "metadata": {},
     "output_type": "display_data"
    },
    {
     "name": "stdout",
     "output_type": "stream",
     "text": [
      "Test Accuracy - 0.9838\n"
     ]
    }
   ],
   "source": [
    "# evaluate the model\n",
    "scores = model.evaluate(testData, mTestLabels, verbose=0)\n",
    "\n",
    "# history plot for accuracy\n",
    "plt.plot(history.history[\"acc\"])\n",
    "plt.plot(history.history[\"val_acc\"])\n",
    "plt.title(\"Model Accuracy with Adagrad Optimizer\")\n",
    "plt.xlabel(\"Epoch\")\n",
    "plt.ylabel(\"Accuracy\")\n",
    "plt.legend([\"train\", \"test\"], loc=\"lower right\")\n",
    "plt.show()\n",
    "\n",
    "print \"Test Accuracy - {}\".format(scores[1])"
   ]
  },
  {
   "cell_type": "code",
   "execution_count": 22,
   "metadata": {},
   "outputs": [
    {
     "name": "stdout",
     "output_type": "stream",
     "text": [
      "Train on 60000 samples, validate on 10000 samples\n",
      "Epoch 1/20\n",
      " - 11s - loss: 0.0387 - acc: 0.9866 - val_loss: 0.0930 - val_acc: 0.9744\n",
      "Epoch 2/20\n",
      " - 12s - loss: 0.0287 - acc: 0.9903 - val_loss: 0.0889 - val_acc: 0.9756\n",
      "Epoch 3/20\n",
      " - 12s - loss: 0.0242 - acc: 0.9920 - val_loss: 0.0783 - val_acc: 0.9790\n",
      "Epoch 4/20\n",
      " - 13s - loss: 0.0205 - acc: 0.9933 - val_loss: 0.0792 - val_acc: 0.9793\n",
      "Epoch 5/20\n",
      " - 12s - loss: 0.0161 - acc: 0.9945 - val_loss: 0.0774 - val_acc: 0.9811\n",
      "Epoch 6/20\n",
      " - 13s - loss: 0.0166 - acc: 0.9943 - val_loss: 0.0771 - val_acc: 0.9804\n",
      "Epoch 7/20\n",
      " - 12s - loss: 0.0127 - acc: 0.9958 - val_loss: 0.0898 - val_acc: 0.9787\n",
      "Epoch 8/20\n",
      " - 13s - loss: 0.0134 - acc: 0.9955 - val_loss: 0.0998 - val_acc: 0.9771\n",
      "Epoch 9/20\n",
      " - 13s - loss: 0.0115 - acc: 0.9962 - val_loss: 0.0902 - val_acc: 0.9803\n",
      "Epoch 10/20\n",
      " - 15s - loss: 0.0141 - acc: 0.9954 - val_loss: 0.0902 - val_acc: 0.9798\n",
      "Epoch 11/20\n",
      " - 14s - loss: 0.0117 - acc: 0.9962 - val_loss: 0.1068 - val_acc: 0.9786\n",
      "Epoch 12/20\n",
      " - 13s - loss: 0.0111 - acc: 0.9963 - val_loss: 0.0861 - val_acc: 0.9810\n",
      "Epoch 13/20\n",
      " - 16s - loss: 0.0072 - acc: 0.9976 - val_loss: 0.0918 - val_acc: 0.9810\n",
      "Epoch 14/20\n",
      " - 14s - loss: 0.0079 - acc: 0.9978 - val_loss: 0.0894 - val_acc: 0.9815\n",
      "Epoch 15/20\n",
      " - 18s - loss: 0.0055 - acc: 0.9984 - val_loss: 0.0964 - val_acc: 0.9821\n",
      "Epoch 16/20\n",
      " - 17s - loss: 0.0116 - acc: 0.9964 - val_loss: 0.1009 - val_acc: 0.9808\n",
      "Epoch 17/20\n",
      " - 14s - loss: 0.0110 - acc: 0.9967 - val_loss: 0.1295 - val_acc: 0.9773\n",
      "Epoch 18/20\n",
      " - 19s - loss: 0.0104 - acc: 0.9968 - val_loss: 0.0903 - val_acc: 0.9809\n",
      "Epoch 19/20\n",
      " - 22s - loss: 0.0070 - acc: 0.9980 - val_loss: 0.0981 - val_acc: 0.9803\n",
      "Epoch 20/20\n",
      " - 22s - loss: 0.0071 - acc: 0.9977 - val_loss: 0.0975 - val_acc: 0.9816\n"
     ]
    }
   ],
   "source": [
    "# compile the model with Adagrad Optimizer\n",
    "model.compile(loss=\"categorical_crossentropy\", optimizer=\"adam\", metrics=[\"accuracy\"])\n",
    "\n",
    "#fit the model\n",
    "history = model.fit(trainData, mTrainLabels, validation_data=(testData, mTestLabels), batch_size=batch_size, epochs=nb_epoch, verbose=2)\n",
    "\n",
    "\n"
   ]
  },
  {
   "cell_type": "code",
   "execution_count": 23,
   "metadata": {},
   "outputs": [
    {
     "data": {
      "image/png": "[encoded data removed]",
      "text/plain": [
       "<matplotlib.figure.Figure at 0x7f1a5b3d9c10>"
      ]
     },
     "metadata": {},
     "output_type": "display_data"
    },
    {
     "name": "stdout",
     "output_type": "stream",
     "text": [
      "Test Accuracy - 0.9816\n"
     ]
    }
   ],
   "source": [
    "# evaluate the model\n",
    "scores = model.evaluate(testData, mTestLabels, verbose=0)\n",
    "\n",
    "# history plot for accuracy\n",
    "plt.plot(history.history[\"acc\"])\n",
    "plt.plot(history.history[\"val_acc\"])\n",
    "plt.title(\"Model Accuracy with Adam Optimizer\")\n",
    "plt.xlabel(\"Epoch\")\n",
    "plt.ylabel(\"Accuracy\")\n",
    "plt.legend([\"train\", \"test\"], loc=\"lower right\")\n",
    "plt.show()\n",
    "\n",
    "print \"Test Accuracy - {}\".format(scores[1])"
   ]
  },
  {
   "cell_type": "markdown",
   "metadata": {},
   "source": [
    "Results with different Optimizers:\n",
    "\n",
    "SGD - 95.75%\n",
    "Adagrad - 98.38%\n",
    "Adam - 98.16%"
   ]
  }
 ],
 "metadata": {
  "kernelspec": {
   "display_name": "Python 2",
   "language": "python",
   "name": "python2"
  },
  "language_info": {
   "codemirror_mode": {
    "name": "ipython",
    "version": 2
   },
   "file_extension": ".py",
   "mimetype": "text/x-python",
   "name": "python",
   "nbconvert_exporter": "python",
   "pygments_lexer": "ipython2",
   "version": "2.7.12"
  }
 },
 "nbformat": 4,
 "nbformat_minor": 2
}
